{
 "cells": [
  {
   "cell_type": "code",
   "execution_count": 1,
   "metadata": {},
   "outputs": [],
   "source": [
    "import re\n",
    "from datetime import datetime"
   ]
  },
  {
   "cell_type": "code",
   "execution_count": 2,
   "metadata": {},
   "outputs": [],
   "source": [
    "f = open(\"my_feeds.rss\",\"r\", encoding='utf-8')\n",
    "t = f.read()\n",
    "f.close()"
   ]
  },
  {
   "cell_type": "code",
   "execution_count": 3,
   "metadata": {},
   "outputs": [],
   "source": [
    "rss =t.split('\\n')\n",
    "t=\"\"\n",
    "for i in range(len(rss)):\n",
    "    t=t+\" \"+rss[i]\n",
    "t=re.sub('^\\s','',t)"
   ]
  },
  {
   "cell_type": "code",
   "execution_count": 4,
   "metadata": {},
   "outputs": [],
   "source": [
    "chanel=re.findall('<channel>(.+?)<\\/channel>', t)"
   ]
  },
  {
   "cell_type": "code",
   "execution_count": 5,
   "metadata": {},
   "outputs": [],
   "source": [
    "title=[]\n",
    "source=[]\n",
    "for i in range(len(chanel)):\n",
    "    title.append(re.findall('<title>(.+?)<\\/title>', chanel[i]))\n",
    "    source.append(title[i][0])\n",
    "    source[i]=re.sub('[\\s\\-]*$','',source[i])\n",
    "    source[i]=re.sub('\"','\\\"',source[i])\n",
    "    title[i].pop(0)\n",
    "    title[i].pop(0)"
   ]
  },
  {
   "cell_type": "code",
   "execution_count": 6,
   "metadata": {},
   "outputs": [],
   "source": [
    "text=[]\n",
    "for i in range(len(chanel)):\n",
    "    text.append(re.findall('<description>(.*?)<\\/description>', chanel[i]))\n",
    "    text[i].pop(0)"
   ]
  },
  {
   "cell_type": "code",
   "execution_count": 7,
   "metadata": {},
   "outputs": [],
   "source": [
    "link=[]\n",
    "for i in range(len(chanel)):\n",
    "    link.append(re.findall('<link>(.+?)<\\/link>', chanel[i]))\n",
    "    link[i].pop(0)"
   ]
  },
  {
   "cell_type": "code",
   "execution_count": 8,
   "metadata": {},
   "outputs": [],
   "source": [
    "pubdate=[]\n",
    "for i in range(len(chanel)):\n",
    "    pubdate.append(re.findall('<pubDate>(.+?)<\\/pubDate>', chanel[i]))\n",
    "    for j in range(len(pubdate[i])):\n",
    "        pubdate[i][j]=pubdate[i][j].split('+')[0]\n",
    "        if pubdate[i][j].partition(',')[2]!='':\n",
    "            pubdate[i][j]=pubdate[i][j].partition(', ')[2]"
   ]
  },
  {
   "cell_type": "code",
   "execution_count": 9,
   "metadata": {},
   "outputs": [],
   "source": [
    "dateF=\"%d %b %Y %H:%M:%S \"\n",
    "file = open(\"info.json\", \"w\", encoding='utf-8')\n",
    "for j in range(len(chanel)):\n",
    "    for i in range(len(title[j])):\n",
    "        file.write(\"{\\n\\\"title\\\":\\\"\"+title[j][i]+\"\\\",\\n\")\n",
    "        text[j][i]=re.sub('[\\s\\-]*$','',text[j][i])\n",
    "        text[j][i]=re.sub('\"','\\\"',text[j][i])\n",
    "        text[j][i]=re.sub('\\'','&amp;',text[j][i])\n",
    "        file.write(\"\\\"textBody\\\":\\\"\"+text[j][i]+\"\\\",\\n\")\n",
    "        file.write(\"\\\"source\\\":\\\"\"+source[j]+\"\\\",\\n\")\n",
    "        time=datetime.strptime(pubdate[j][i],dateF)\n",
    "        file.write(\"\\\"PubDate\\\":\\\"\"+datetime.isoformat(time)+\"Z\"+\"\\\",\\n\")\n",
    "        file.write(\"\\\"URL\\\":\\\"\"+link[j][i]+\"\\\"\\n}\\n\")\n",
    "file.close()"
   ]
  },
  {
   "cell_type": "code",
   "execution_count": null,
   "metadata": {},
   "outputs": [],
   "source": []
  }
 ],
 "metadata": {
  "kernelspec": {
   "display_name": "Python 3",
   "language": "python",
   "name": "python3"
  },
  "language_info": {
   "codemirror_mode": {
    "name": "ipython",
    "version": 3
   },
   "file_extension": ".py",
   "mimetype": "text/x-python",
   "name": "python",
   "nbconvert_exporter": "python",
   "pygments_lexer": "ipython3",
   "version": "3.8.3"
  }
 },
 "nbformat": 4,
 "nbformat_minor": 4
}
