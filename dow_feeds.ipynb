{
 "cells": [
  {
   "cell_type": "code",
   "execution_count": 1,
   "metadata": {},
   "outputs": [],
   "source": [
    "import requests\n",
    "\n",
    "strange = requests.get('http://k.img.com.ua/rss/ua/strange.xml')\n",
    "books = requests.get('http://k.img.com.ua/rss/ua/books.xml')\n",
    "mmy = requests.get('https://www.radiosvoboda.org/api/ztpmmyei-mmy')\n",
    "finance = requests.get('https://news.finance.ua/ua/rss')\n",
    "health = requests.get('https://fakty.ua/rss_feed/health')\n",
    "cookbook = requests.get('https://fakty.ua/rss_feed/cookbook')\n",
    "osvita = requests.get('https://osvita.ua/rss/news/')\n",
    "criminal = requests.get('https://www.unn.com.ua/rss/news_criminal_uk.xml')\n",
    "tech = requests.get('https://www.unn.com.ua/rss/news_tech_uk.xml')\n",
    "gov = requests.get('https://www.kmu.gov.ua/api/rss')\n",
    "zaxid = requests.get('https://zaxid.net/rss/all.xml')\n",
    "web = requests.get('http://k.img.com.ua/rss/ua/web.xml')"
   ]
  },
  {
   "cell_type": "code",
   "execution_count": 2,
   "metadata": {},
   "outputs": [],
   "source": [
    "feeds=open(\"my_feeds.rss\",\"a\", encoding='utf-8')"
   ]
  },
  {
   "cell_type": "code",
   "execution_count": 3,
   "metadata": {},
   "outputs": [
    {
     "data": {
      "text/plain": [
       "181595"
      ]
     },
     "execution_count": 3,
     "metadata": {},
     "output_type": "execute_result"
    }
   ],
   "source": [
    "feeds.write(mmy.text)\n",
    "feeds.write(finance.text)\n",
    "feeds.write(health.text)\n",
    "feeds.write(cookbook.text)\n",
    "feeds.write(osvita.text)\n",
    "feeds.write(gov.text)\n",
    "feeds.write(zaxid.text)\n",
    "feeds.write(web.text)"
   ]
  },
  {
   "cell_type": "code",
   "execution_count": 4,
   "metadata": {},
   "outputs": [],
   "source": [
    "feeds.close()"
   ]
  },
  {
   "cell_type": "code",
   "execution_count": 5,
   "metadata": {},
   "outputs": [],
   "source": [
    "feeds=open(\"my_feeds.rss\",\"a\", encoding='iso-8859-1')\n",
    "feeds.write(criminal.text)\n",
    "feeds.write(tech.text)\n",
    "feeds.close()"
   ]
  }
 ],
 "metadata": {
  "kernelspec": {
   "display_name": "Python 3",
   "language": "python",
   "name": "python3"
  },
  "language_info": {
   "codemirror_mode": {
    "name": "ipython",
    "version": 3
   },
   "file_extension": ".py",
   "mimetype": "text/x-python",
   "name": "python",
   "nbconvert_exporter": "python",
   "pygments_lexer": "ipython3",
   "version": "3.8.3"
  }
 },
 "nbformat": 4,
 "nbformat_minor": 4
}
